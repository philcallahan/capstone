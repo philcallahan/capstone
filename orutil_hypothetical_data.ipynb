{
 "cells": [
  {
   "cell_type": "code",
   "execution_count": 2,
   "id": "d1d5aa6e",
   "metadata": {},
   "outputs": [
    {
     "name": "stdout",
     "output_type": "stream",
     "text": [
      "Python version: 3.8.8 (default, Apr 13 2021, 15:08:03) [MSC v.1916 64 bit (AMD64)]\n"
     ]
    }
   ],
   "source": [
    "##################################\n",
    "####### run this code first ######\n",
    "##################################\n",
    "\n",
    "#library imports\n",
    "import pandas as pd\n",
    "pd.set_option('display.max_rows', 250, 'display.max_columns', None) #set pd display options\n",
    "\n",
    "import datetime as dt\n",
    "from datetime import datetime, timedelta, date\n",
    "import calendar\n",
    "\n",
    "import numpy as np\n",
    "import matplotlib.pyplot as plt #visualizations\n",
    "from collections import OrderedDict #ordered dict lib\n",
    "\n",
    "#suppress warning for depreciated fxn\n",
    "import warnings\n",
    "warnings.filterwarnings('once')\n",
    "\n",
    "#maps folder for functions\n",
    "import sys\n",
    "sys.path.append(r'/Users/XXXXXX/src/or_block_utilization')\n",
    "#version of Python -=-=-=-\n",
    "print(f'Python version:', sys.version)\n",
    "\n",
    "from orutil import orutil"
   ]
  },
  {
   "cell_type": "markdown",
   "id": "995aeb64",
   "metadata": {},
   "source": [
    "## Hypothetical ordered dictionary -\n",
    "This is an example of the dictionary that would result from the hypothetical temporal case buildup from 02May2022 "
   ]
  },
  {
   "cell_type": "code",
   "execution_count": 2,
   "id": "9dacebbb",
   "metadata": {},
   "outputs": [
    {
     "data": {
      "text/plain": [
       "OrderedDict([('2022-05-02',\n",
       "              OrderedDict([('2022-01-03',\n",
       "                            {'Department1-South Location': [111111]}),\n",
       "                           ('2022-01-26',\n",
       "                            {'Department1-South Location': [111111, 222222]}),\n",
       "                           ('2022-03-17',\n",
       "                            {'Department1-South Location': [111111,\n",
       "                              222222,\n",
       "                              333333]}),\n",
       "                           ('2022-03-29',\n",
       "                            {'Department1-South Location': [111111,\n",
       "                              222222,\n",
       "                              333333,\n",
       "                              444444]}),\n",
       "                           ('2022-04-14',\n",
       "                            {'Department1-South Location': [111111,\n",
       "                              222222,\n",
       "                              333333,\n",
       "                              444444,\n",
       "                              555555]}),\n",
       "                           ('2022-04-22',\n",
       "                            {'Department1-South Location': [111111,\n",
       "                              222222,\n",
       "                              333333,\n",
       "                              444444,\n",
       "                              555555,\n",
       "                              666666]})]))])"
      ]
     },
     "execution_count": 2,
     "metadata": {},
     "output_type": "execute_result"
    }
   ],
   "source": [
    "mockup_oDict = OrderedDict([('2022-05-02',\n",
    "              OrderedDict([('2022-01-03',\n",
    "                           {'Department1-South Location':[111111]}),\n",
    "                           ('2022-01-26',\n",
    "                            {'Department1-South Location': [111111, 222222]}),\n",
    "                           ('2022-03-17',\n",
    "                            {'Department1-South Location': [111111,\n",
    "                              222222,\n",
    "                              333333]}),\n",
    "                           ('2022-03-29',\n",
    "                            {'Department1-South Location': [111111,\n",
    "                              222222,\n",
    "                              333333,\n",
    "                              444444]}),\n",
    "                           ('2022-04-14',\n",
    "                            {'Department1-South Location': [111111,\n",
    "                              222222,\n",
    "                              333333,\n",
    "                              444444,\n",
    "                              555555]}),\n",
    "                           ('2022-04-22',\n",
    "                            {'Department1-South Location': [111111,\n",
    "                              222222,\n",
    "                              333333,\n",
    "                              444444,\n",
    "                              555555,\n",
    "                              666666]})]))])\n",
    "mockup_oDict\n"
   ]
  },
  {
   "cell_type": "markdown",
   "id": "cd65e87e",
   "metadata": {},
   "source": [
    "## Hypothetical data for plotting - \n",
    "* first result is the procedure date\n",
    "* second result is a list of action dates (each \"step\" in the buildup time series trendline)\n",
    "* third result is a list of lists of cases added at each action date"
   ]
  },
  {
   "cell_type": "code",
   "execution_count": 3,
   "id": "aefadda2",
   "metadata": {},
   "outputs": [
    {
     "data": {
      "text/plain": [
       "('2022-05-02',\n",
       " ['2022-01-03',\n",
       "  '2022-01-26',\n",
       "  '2022-03-17',\n",
       "  '2022-03-29',\n",
       "  '2022-04-14',\n",
       "  '2022-04-22'],\n",
       " [[111111],\n",
       "  [111111, 222222],\n",
       "  [111111, 222222, 333333],\n",
       "  [111111, 222222, 333333, 444444],\n",
       "  [111111, 222222, 333333, 444444, 555555],\n",
       "  [111111, 222222, 333333, 444444, 555555, 666666]])"
      ]
     },
     "execution_count": 3,
     "metadata": {},
     "output_type": "execute_result"
    }
   ],
   "source": [
    "#cretae mockups key, date list, caseNums\n",
    "mock_date_key, mock_dateList, mock_caseNums = orutil.makeDictPlottable(mockup_oDict)\n",
    "mock_date_key, mock_dateList, mock_caseNums"
   ]
  },
  {
   "cell_type": "markdown",
   "id": "b3fe8bfc",
   "metadata": {},
   "source": [
    "## Dictionary of each case and total minutes to complete (for a single procedure date)"
   ]
  },
  {
   "cell_type": "code",
   "execution_count": 4,
   "id": "b0f1484e",
   "metadata": {},
   "outputs": [
    {
     "data": {
      "text/plain": [
       "{111111: 30, 222222: 210, 333333: 150, 444444: 20, 555555: 80, 666666: 20}"
      ]
     },
     "execution_count": 4,
     "metadata": {},
     "output_type": "execute_result"
    }
   ],
   "source": [
    "mock_ORdateBlockDict = {111111: 30, 222222: 210, 333333: 150, 444444: 20, 555555: 80, 666666: 20}\n",
    "mock_ORdateBlockDict"
   ]
  },
  {
   "cell_type": "markdown",
   "id": "87d8d7f0",
   "metadata": {},
   "source": [
    "## Accumulated list of minutes (tally of previous dictionary)"
   ]
  },
  {
   "cell_type": "code",
   "execution_count": 5,
   "id": "e1798c46",
   "metadata": {},
   "outputs": [
    {
     "data": {
      "text/plain": [
       "[30, 240, 390, 410, 490, 510]"
      ]
     },
     "execution_count": 5,
     "metadata": {},
     "output_type": "execute_result"
    }
   ],
   "source": [
    "mock_accum_mins_list = [30, 240, 390, 410, 490, 510]\n",
    "mock_accum_mins_list"
   ]
  },
  {
   "cell_type": "markdown",
   "id": "b6375bdc",
   "metadata": {},
   "source": [
    "## List of accumulated percentages\n",
    "This hypothetical list represents the previous list of accumulated procedure minutes converted to percentage of the whole time block."
   ]
  },
  {
   "cell_type": "code",
   "execution_count": 6,
   "id": "65f554d9",
   "metadata": {
    "scrolled": true
   },
   "outputs": [
    {
     "data": {
      "text/plain": [
       "[0.058823529411764705,\n",
       " 0.47058823529411764,\n",
       " 0.7647058823529411,\n",
       " 0.803921568627451,\n",
       " 0.9607843137254902,\n",
       " 1.0]"
      ]
     },
     "execution_count": 6,
     "metadata": {},
     "output_type": "execute_result"
    }
   ],
   "source": [
    "#calc mock denom\n",
    "# for mins in mock_accum_mins_list:\n",
    "mock_accum_percent_util = orutil.percentUtil(mock_accum_mins_list, 510)\n",
    "mock_accum_percent_util    "
   ]
  },
  {
   "cell_type": "markdown",
   "id": "ef8a0e9c",
   "metadata": {},
   "source": [
    "## Hypothetical dictionary of aggregated parameters and procedure dates\n",
    "This dictionary has the selected parameters as the key (owner, dow, and OR number), followed by the list of procedure dates associated with them.\n",
    "\n",
    "<b>NOTE:</b> The first item in the value list is the above date. So a temporal case buildup would exist for each of these dates in the list."
   ]
  },
  {
   "cell_type": "code",
   "execution_count": 7,
   "id": "fc90e061",
   "metadata": {},
   "outputs": [
    {
     "data": {
      "text/plain": [
       "{('KOOP, CHARLES EVERETT', 'Monday', 'OR1111'): ['2022-05-02',\n",
       "  '2021-02-22',\n",
       "  '2021-05-24',\n",
       "  '2021-04-19',\n",
       "  '2021-06-14',\n",
       "  '2021-07-12',\n",
       "  '2021-10-25',\n",
       "  '2021-09-20',\n",
       "  '2022-01-24']}"
      ]
     },
     "execution_count": 7,
     "metadata": {},
     "output_type": "execute_result"
    }
   ],
   "source": [
    "{('KOOP, CHARLES EVERETT', 'Monday', 'OR1111'): ['2022-05-02',\n",
    "  '2021-02-22',\n",
    "  '2021-05-24',\n",
    "  '2021-04-19',\n",
    "  '2021-06-14',\n",
    "  '2021-07-12',\n",
    "  '2021-10-25',\n",
    "  '2021-09-20',\n",
    "  '2022-01-24']}"
   ]
  },
  {
   "cell_type": "markdown",
   "id": "c0868f20",
   "metadata": {},
   "source": [
    "## Example of what the furthest back date could looklike before plotted"
   ]
  },
  {
   "cell_type": "code",
   "execution_count": 8,
   "id": "9c7060bd",
   "metadata": {},
   "outputs": [
    {
     "data": {
      "text/plain": [
       "OrderedDict([(-90,\n",
       "              [0,\n",
       "               0,\n",
       "               0.15833333333333333,\n",
       "               0.49583333333333335,\n",
       "               0,\n",
       "               0.25,\n",
       "               0.225,\n",
       "               0,\n",
       "               0.46458333333333335])])"
      ]
     },
     "execution_count": 8,
     "metadata": {},
     "output_type": "execute_result"
    }
   ],
   "source": [
    "OrderedDict([(-90,\n",
    "              [0,\n",
    "               0,\n",
    "               0.15833333333333333,\n",
    "               0.49583333333333335,\n",
    "               0,\n",
    "               0.25,\n",
    "               0.225,\n",
    "               0,\n",
    "               0.46458333333333335])])"
   ]
  },
  {
   "cell_type": "markdown",
   "id": "260fa8d5",
   "metadata": {},
   "source": [
    "## Example of what the <i>least</i> furthest back date could looklike before plotted"
   ]
  },
  {
   "cell_type": "code",
   "execution_count": 4,
   "id": "f0eca5e6",
   "metadata": {},
   "outputs": [
    {
     "data": {
      "text/plain": [
       "OrderedDict([(-1,\n",
       "              [1.0,\n",
       "               0.93125,\n",
       "               0.8854166666666666,\n",
       "               0.8729166666666667,\n",
       "               0.925,\n",
       "               0.66875,\n",
       "               0.8145833333333333,\n",
       "               1.0,\n",
       "               0.8041666666666667])])"
      ]
     },
     "execution_count": 4,
     "metadata": {},
     "output_type": "execute_result"
    }
   ],
   "source": [
    "OrderedDict([(-1,\n",
    "              [1.0,\n",
    "               0.93125,\n",
    "               0.8854166666666666,\n",
    "               0.8729166666666667,\n",
    "               0.925,\n",
    "               0.66875,\n",
    "               0.8145833333333333,\n",
    "               1.0,\n",
    "               0.8041666666666667])])\n"
   ]
  },
  {
   "cell_type": "markdown",
   "id": "299ffe60",
   "metadata": {},
   "source": [
    "## Hypothetical mean list and confidence interval list (generated from Mockups.xlsx) to plot"
   ]
  },
  {
   "cell_type": "code",
   "execution_count": 5,
   "id": "940240dc",
   "metadata": {},
   "outputs": [],
   "source": [
    "#generated in excel\n",
    "mnList_mock = [0.28,0.28,0.28,0.28,0.28,0.287189542,0.298300654,0.298300654,0.298300654,0.298300654,0.311633987,0.311633987,0.27496732,0.27496732,0.27496732,0.27496732,0.27496732,0.27496732,0.27496732,0.282745098,0.282745098,0.314509804,0.314509804,0.314509804,0.314509804,0.314509804,0.314509804,0.282287582,0.282287582,0.282287582,0.282287582,0.316732026,0.316732026,0.316732026,0.316732026,0.316732026,0.316732026,0.376732026,0.376732026,0.404509804,0.404509804,0.404509804,0.404509804,0.404509804,0.404509804,0.404509804,0.404509804,0.404509804,0.404509804,0.404509804,0.428954248,0.428954248,0.428954248,0.484509804,0.484509804,0.517843137,0.517843137,0.528954248,0.559455338,0.57167756,0.57167756,0.57167756,0.57167756,0.57167756,0.59167756,0.603899782,0.649281046,0.649281046,0.671503268,0.671503268,0.671503268,0.688169935,0.66372549,0.66372549,0.66372549,0.737058824,0.737058824,0.783464052,0.794575163,0.794575163,0.794575163,0.794575163,0.794575163,0.839019608,0.845555556,0.884444444,0.884444444,0.884444444,0.884444444,0.884444444]\n",
    "ciList_mock = [0.342016081,0.342016081,0.342016081,0.342016081,0.342016081,0.336022014,0.3268672,0.3268672,0.3268672,0.3268672,0.335250872,0.335250872,0.309439737,0.309439737,0.309439737,0.309439737,0.309439737,0.309439737,0.309439737,0.310460089,0.310460089,0.295805159,0.295805159,0.295805159,0.295805159,0.295805159,0.295805159,0.225326646,0.225326646,0.225326646,0.225326646,0.246267309,0.246267309,0.246267309,0.246267309,0.246267309,0.246267309,0.282557541,0.282557541,0.251470588,0.251470588,0.251470588,0.251470588,0.251470588,0.251470588,0.251470588,0.251470588,0.251470588,0.251470588,0.251470588,0.265644867,0.265644867,0.265644867,0.275636884,0.275636884,0.239034426,0.239034426,0.235164813,0.244274081,0.252545539,0.252545539,0.252545539,0.252545539,0.252545539,0.25991106,0.266039604,0.284892042,0.284892042,0.27045123,0.27045123,0.27045123,0.270115707,0.271734465,0.271734465,0.271734465,0.112804758,0.112804758,0.124684531,0.125780531,0.125780531,0.125780531,0.125780531,0.125780531,0.095608595,0.105013227,0.1582017,0.1582017,0.1582017,0.1582017,0.1582017]\n",
    "x_mock = [-90, -89, -88, -87, -86, -85, -84, -83, -82, -81, -80, -79, -78, -77, -76, -75, -74, -73, -72, -71, -70, -69, -68, -67, -66, -65, -64, -63, -62, -61, -60, -59, -58, -57, -56, -55, -54, -53, -52, -51, -50, -49, -48, -47, -46, -45, -44, -43, -42, -41, -40, -39, -38, -37, -36, -35, -34, -33, -32, -31, -30, -29, -28, -27, -26, -25, -24, -23, -22, -21, -20, -19, -18, -17, -16, -15, -14, -13, -12, -11, -10, -9, -8, -7, -6, -5, -4, -3, -2, -1]\n",
    "\n",
    "dow_mock = 'Monday'\n",
    "owner_mock = 'Surgeon A'\n",
    "roomID_mock = 'OR1111'"
   ]
  },
  {
   "cell_type": "markdown",
   "id": "dbd29e0a",
   "metadata": {},
   "source": [
    "## Previous hypothetical values plotted"
   ]
  },
  {
   "cell_type": "code",
   "execution_count": 11,
   "id": "815b11ac",
   "metadata": {},
   "outputs": [
    {
     "data": {
      "text/plain": [
       "(array([-100.,  -80.,  -60.,  -40.,  -20.,    0.,   20.]),\n",
       " <a list of 7 Text major ticklabel objects>)"
      ]
     },
     "execution_count": 11,
     "metadata": {},
     "output_type": "execute_result"
    },
    {
     "data": {
      "text/plain": [
       "<Figure size 864x864 with 0 Axes>"
      ]
     },
     "metadata": {},
     "output_type": "display_data"
    },
    {
     "data": {
      "image/png": "[encoded data removed]",
      "text/plain": [
       "<Figure size 864x576 with 1 Axes>"
      ]
     },
     "metadata": {
      "needs_background": "light"
     },
     "output_type": "display_data"
    }
   ],
   "source": [
    "# Create the data set\n",
    "plt.figure(figsize=(12, 12))\n",
    "\n",
    "x = x_mock\n",
    "y = mnList_mock\n",
    "\n",
    "fig, ax = plt.subplots()\n",
    "fig.set_size_inches(12, 8)\n",
    "\n",
    "# Plot the function\n",
    "plt.plot(x, y)\n",
    "\n",
    "# #set y axis to always start at 0\n",
    "x1,x2,y1,y2 = plt.axis()  \n",
    "plt.axis((x1,x2,0,1.2))\n",
    "\n",
    "#rest of plt attributes\n",
    "plt.ylabel(\"% Utilization\", fontsize=16, rotation=-90, labelpad=35)\n",
    "ax.yaxis.set_label_position(\"right\")\n",
    "plt.xlabel(\"Days Back From Procedure Date\", fontsize=16, labelpad=20)\n",
    "plt.axhline(y=1, color='cadetblue', linestyle='--')\n",
    "plt.axhline(y=0.8, color='orange', linestyle='--')\n",
    "plt.xticks(rotation = 45)\n",
    "# plt.title(f'% Utilization of OR vs Days Back\\nfrom Procedure Dates on '+\n",
    "#           dow+'s\\n'+ ' for '+ owner+ ' in %i' % roomID )"
   ]
  },
  {
   "cell_type": "markdown",
   "id": "92b5f97e",
   "metadata": {},
   "source": [
    "## Previous plot with confidence banding added"
   ]
  },
  {
   "cell_type": "code",
   "execution_count": 13,
   "id": "f0910cae",
   "metadata": {},
   "outputs": [
    {
     "data": {
      "image/png": "[encoded data removed]",
      "text/plain": [
       "<Figure size 864x576 with 1 Axes>"
      ]
     },
     "metadata": {
      "needs_background": "light"
     },
     "output_type": "display_data"
    }
   ],
   "source": [
    "#add CI banding\n",
    "# plt.figure(figsize=(12, 12))\n",
    "plt.rcParams['ytick.right'] = plt.rcParams['ytick.labelright'] = True\n",
    "plt.rcParams['ytick.left'] = plt.rcParams['ytick.labelleft'] = False\n",
    "\n",
    "x_1 = x_mock\n",
    "y_1 = mnList_mock\n",
    "err_1 = ciList_mock\n",
    "\n",
    "fig, ax = plt.subplots()\n",
    "fig.set_size_inches(12, 8)\n",
    "\n",
    "plt.errorbar(x=x_1, y=y_1, yerr=err_1, color=\"gray\", capsize=3,\n",
    "             linestyle=\"None\",\n",
    "             marker=\"s\", markersize=7, mfc=\"black\", mec=\"black\")\n",
    "\n",
    "\n",
    "# #set y axis to always start at 0\n",
    "x1,x2,y1,y2 = plt.axis()  \n",
    "plt.axis((x1,x2,-0.1,1.2))\n",
    "\n",
    "#rest of plt attributes\n",
    "plt.ylabel(\"% Utilization\", fontsize=16, rotation=-90, labelpad=35)\n",
    "plt.xlabel(\"Days Back From Procedure Date\", fontsize=16, labelpad=20)\n",
    "plt.axhline(y=1, color='cadetblue', linestyle='--')\n",
    "plt.axhline(y=0.8, color='orange', linestyle='--')\n",
    "plt.xticks(rotation = 45)\n",
    "ax.yaxis.set_label_position(\"right\")\n",
    "# plt.title(f'% Utilization of OR vs Days Back\\nfrom Procedure Dates on '+\n",
    "#           dow+'s\\n'+ ' for '+ owner+ ' in %i' % roomID )\n",
    "#abbreviated title for dows\n",
    "# plt.title(\"$\\\\bf{Surgeon\\ A\\ -\\ }$\" + r\"$\\bf{\" + str(dow) + \"s\" + \"}$\" +\n",
    "#           \"\\n% Utilization of ORs vs Days Back from Procedure Dates\", fontsize=16, pad=20)\n",
    "#abbreviated title for Surgeon Only\n",
    "plt.title(\"$\\\\bf{Surgeon\\ A\\ -\\ Department\\ I}$\" +\n",
    "          \"\\n% Utilization of ORs vs Days Back from Procedure Dates\", fontsize=16, pad=20)\n",
    "plt.show()"
   ]
  },
  {
   "cell_type": "code",
   "execution_count": null,
   "id": "0650fafd",
   "metadata": {},
   "outputs": [],
   "source": []
  }
 ],
 "metadata": {
  "kernelspec": {
   "display_name": "Python 3",
   "language": "python",
   "name": "python3"
  },
  "language_info": {
   "codemirror_mode": {
    "name": "ipython",
    "version": 3
   },
   "file_extension": ".py",
   "mimetype": "text/x-python",
   "name": "python",
   "nbconvert_exporter": "python",
   "pygments_lexer": "ipython3",
   "version": "3.8.8"
  }
 },
 "nbformat": 4,
 "nbformat_minor": 5
}
