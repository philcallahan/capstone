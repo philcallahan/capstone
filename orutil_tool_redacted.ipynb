{
 "cells": [
  {
   "cell_type": "markdown",
   "id": "a4e5ea30",
   "metadata": {},
   "source": [
    "# CHCO Redacted OR Percent Utilization Tool"
   ]
  },
  {
   "cell_type": "markdown",
   "id": "a45a6090",
   "metadata": {},
   "source": [
    "## Imports"
   ]
  },
  {
   "cell_type": "code",
   "execution_count": 1,
   "id": "85cc3f00",
   "metadata": {
    "scrolled": true
   },
   "outputs": [],
   "source": [
    "##################################\n",
    "####### run this code first ######\n",
    "##################################\n",
    "\n",
    "#library imports\n",
    "import pandas as pd\n",
    "pd.set_option('display.max_rows', 250, 'display.max_columns', None) #set pd display options\n",
    "\n",
    "import datetime as dt\n",
    "from datetime import datetime, timedelta, date\n",
    "import calendar\n",
    "\n",
    "import numpy as np\n",
    "import matplotlib.pyplot as plt #visualizations\n",
    "from collections import OrderedDict #ordered dict lib\n",
    "\n",
    "#suppress warning for depreciated fxn\n",
    "import warnings\n",
    "warnings.filterwarnings('once')\n",
    "\n",
    "#maps folder for functions\n",
    "import sys\n",
    "sys.path.append(r'/redacted_folder_pathway_to_orutil')\n",
    "\n",
    "#functions stored in this file\n",
    "from orutil import orutil"
   ]
  },
  {
   "cell_type": "markdown",
   "id": "1d8195c8",
   "metadata": {},
   "source": [
    "### ▼ ▼ ▼ enter paths to the data here ▼ ▼ ▼"
   ]
  },
  {
   "cell_type": "code",
   "execution_count": 3,
   "id": "a9ea824e",
   "metadata": {},
   "outputs": [],
   "source": [
    "#surgeon and snapshot csv to be read in\n",
    "#NOTE: make sure it's saved as .csv and NOT Excel file\n",
    "surgn_csv = '..\\orutil\\data\\surgeon_data.csv'\n",
    "snapshot_csv = '..\\orutil\\data\\snapshot_data.csv'"
   ]
  },
  {
   "cell_type": "markdown",
   "id": "c543e6c0",
   "metadata": {},
   "source": [
    "### ▲ ▲ ▲ enter paths to the data here ▲ ▲ ▲"
   ]
  },
  {
   "cell_type": "markdown",
   "id": "6f1c2b50",
   "metadata": {},
   "source": [
    "***"
   ]
  },
  {
   "cell_type": "markdown",
   "id": "6a02fdcc",
   "metadata": {},
   "source": [
    "<div class=\"alert alert-block alert-success\">\n",
    "<b>I: This section explores the data and creates lists to use in timeseries creation in section II. </b>\n",
    "</div>"
   ]
  },
  {
   "cell_type": "markdown",
   "id": "ac9bd614",
   "metadata": {},
   "source": [
    "### Filter the surgeon csv, leaving only columns needed for analysis"
   ]
  },
  {
   "cell_type": "code",
   "execution_count": 4,
   "id": "4bfcb60e",
   "metadata": {
    "scrolled": true
   },
   "outputs": [],
   "source": [
    "filtSurgnDF = orutil.filterSurgnDF(surgn_csv) #reads in surgeon csv\n",
    "filtSurgnDF.head() #view top of data frame"
   ]
  },
  {
   "cell_type": "markdown",
   "id": "db293d8f",
   "metadata": {},
   "source": [
    "### View all the surgeons in df"
   ]
  },
  {
   "cell_type": "code",
   "execution_count": null,
   "id": "ee67bac2",
   "metadata": {},
   "outputs": [],
   "source": [
    "orutil.getAllSurgns(filtSurgnDF)"
   ]
  },
  {
   "cell_type": "markdown",
   "id": "0e8ec37f",
   "metadata": {},
   "source": [
    "### Get all the dates each surgeon worked in the dataset"
   ]
  },
  {
   "cell_type": "code",
   "execution_count": null,
   "id": "826e6f7e",
   "metadata": {},
   "outputs": [],
   "source": [
    "#run above fxn with filtered dataset\n",
    "surgnDict = orutil.makeSurgnDict(filtSurgnDF)\n",
    "surgnDict"
   ]
  },
  {
   "cell_type": "markdown",
   "id": "3ae89541",
   "metadata": {},
   "source": [
    "### Make dictionary of dates worked for all surgeon, dow combinations (values not specific to OR yet)"
   ]
  },
  {
   "cell_type": "code",
   "execution_count": null,
   "id": "064fb3af",
   "metadata": {},
   "outputs": [],
   "source": [
    "dowDict = {0:'Monday',\n",
    "           1:'Tuesday',\n",
    "           2:'Wednesday',\n",
    "           3:'Thursday',\n",
    "           4:'Friday'}\n",
    "dowList = list(dowDict.values())"
   ]
  },
  {
   "cell_type": "code",
   "execution_count": null,
   "id": "1d0ab7a3",
   "metadata": {},
   "outputs": [],
   "source": [
    "#call fxn to create dict with surgeon, dow (values do NOT reflect specific OR... yet)\n",
    "unspecPopDict = orutil.make_unspec_pop_dict(filtSurgnDF, surgnDict, dowList)\n",
    "unspecPopDict"
   ]
  },
  {
   "cell_type": "markdown",
   "id": "8baec06a",
   "metadata": {},
   "source": [
    "### <font color = chocolate> This function corrects the values in unspecPopDict to reflect only ORs used on the specific dates (~ 30 sec runtime). </font>"
   ]
  },
  {
   "cell_type": "code",
   "execution_count": null,
   "id": "9a416c00",
   "metadata": {},
   "outputs": [],
   "source": [
    "# correct unspecpopDict values so they reflect ORs as well\n",
    "popDict = orutil.spec_pop_dict(filtSurgnDF, unspecPopDict) \n",
    "popDict"
   ]
  },
  {
   "cell_type": "markdown",
   "id": "1acd8961",
   "metadata": {},
   "source": [
    "### Remove dates that exist in surgeon dataset but not in snapshot dataset"
   ]
  },
  {
   "cell_type": "code",
   "execution_count": null,
   "id": "e1568076",
   "metadata": {},
   "outputs": [],
   "source": [
    "#first pull in snapshot csv to compare\n",
    "filtSnapDF = orutil.filterSnapDF(snapshot_csv)\n",
    "filtSnapDF"
   ]
  },
  {
   "cell_type": "code",
   "execution_count": null,
   "id": "f0282d69",
   "metadata": {
    "scrolled": true
   },
   "outputs": [],
   "source": [
    "#remove dates that exist in surgn data but not in snapshot data\n",
    "#this means procedure was ultimately canceled, or removed on that day\n",
    "#it was in there because at one point it WAS scheduled on that day\n",
    "        \n",
    "popDict_no_empties = orutil.removeEmptyDFs(popDict, filtSnapDF, verbose=False)\n",
    "popDict_no_empties"
   ]
  },
  {
   "cell_type": "markdown",
   "id": "154bbd52",
   "metadata": {},
   "source": [
    "### Look at the whole population - tally the values (aka blocks, dates) in popDict"
   ]
  },
  {
   "cell_type": "code",
   "execution_count": null,
   "id": "2177251c",
   "metadata": {},
   "outputs": [],
   "source": [
    "#tallies the values (blocks) from popDict\n",
    "talliedDict = orutil.tally_popDict_dates(popDict_no_empties)\n",
    "talliedDict"
   ]
  },
  {
   "cell_type": "markdown",
   "id": "be4d7cff",
   "metadata": {},
   "source": [
    "### Make talliedDict a dataframe for easier viewing of whole population"
   ]
  },
  {
   "cell_type": "code",
   "execution_count": null,
   "id": "71082ab3",
   "metadata": {
    "scrolled": true
   },
   "outputs": [],
   "source": [
    "#make talliedDict a df\n",
    "popdf = orutil.makeTalliedDictDF(talliedDict)\n",
    "popdf"
   ]
  },
  {
   "cell_type": "markdown",
   "id": "4778637b",
   "metadata": {},
   "source": [
    "### Below cell will save the dataframe as a csv"
   ]
  },
  {
   "cell_type": "code",
   "execution_count": null,
   "id": "fff69453",
   "metadata": {},
   "outputs": [],
   "source": [
    "#uncomment and run this cell if you want to save as csv\n",
    "# popdf.to_csv('dataset_population_tallied.csv')"
   ]
  },
  {
   "cell_type": "markdown",
   "id": "864b4e25",
   "metadata": {},
   "source": [
    "<div class=\"alert alert-block alert-success\">\n",
    "<b>II: This section creates the trendline for given criteria </b>\n",
    "</div>"
   ]
  },
  {
   "cell_type": "markdown",
   "id": "c7b07536",
   "metadata": {},
   "source": [
    "<div class=\"alert alert-block alert-info\">\n",
    "<b>------------------------ ▼ ▼ ▼ enter parameters for trendline to see here ▼ ▼ ▼ -------------------------</b>\n",
    "</div>"
   ]
  },
  {
   "cell_type": "markdown",
   "id": "81d948a4",
   "metadata": {},
   "source": [
    "<div class=\"alert alert-block alert-info\">\n",
    "<b>------------------------ ▼ ▼ ▼ enter parameters for trendline to see here ▼ ▼ ▼ -------------------------</b>\n",
    "</div>"
   ]
  },
  {
   "cell_type": "code",
   "execution_count": 4,
   "id": "5eda31d7",
   "metadata": {},
   "outputs": [
    {
     "name": "stdout",
     "output_type": "stream",
     "text": [
      "The primary surgeon is: Surgeon A\n",
      "The day of week is: Monday\n",
      "The OR is: 1111\n",
      "The number of lookback days is: 180\n"
     ]
    }
   ],
   "source": [
    "#################################\n",
    "### Enter filter info here #####\n",
    "#################################\n",
    "\n",
    "#surgeon csv you want to read in\n",
    "surgn_csv = '..\\orutil\\data\\surgeon_data.csv'\n",
    "snapshot_csv = '..\\orutil\\data\\snapshot_data.csv'\n",
    "\n",
    "#manually enter primary surgeon list from above\n",
    "# NOTE: these have been changed to reflect redactions,\n",
    "# for the analysis, the project used actual surgeon names\n",
    "all_surgns_dict = {0:'Surgeon B',\n",
    "                   1:'Surgeon A',\n",
    "                   2:'Surgeon C'}\n",
    "owner = all_surgns_dict[1] # <========================= choose owner here\n",
    "print(f'The primary surgeon is:', owner)\n",
    "\n",
    "#day of week\n",
    "dowDict = {0:'Monday',\n",
    "           1:'Tuesday',\n",
    "           2:'Wednesday',\n",
    "           3:'Thursday',\n",
    "           4:'Friday'}\n",
    "dowList = list(dowDict.values())\n",
    "dow = dowDict[0] # <=============================== choose DOW here\n",
    "print(f'The day of week is:', dow)\n",
    "\n",
    "#enter operating room number (e.g., 1111)\n",
    "# NOTE: these have been changed to reflect redactions,\n",
    "# for the analysis, the project used actual OR identifiers\n",
    "ORnum = 1111 # <============================= choose OR number here\n",
    "print(f'The OR is:', ORnum)\n",
    "\n",
    "#number of lookback days (ie. 180, 90, 60)\n",
    "num_lookback_days = 180 # <============================ enter number of lookback days here\n",
    "print(f'The number of lookback days is:', num_lookback_days)"
   ]
  },
  {
   "cell_type": "markdown",
   "id": "30995d16",
   "metadata": {},
   "source": [
    "<div class=\"alert alert-block alert-info\">\n",
    "<b>------------------------ ▲ ▲ ▲ enter parameters for trendline to see here ▲ ▲ ▲ -------------------------</b>\n",
    "</div>"
   ]
  },
  {
   "cell_type": "markdown",
   "id": "988cff52",
   "metadata": {},
   "source": [
    "<div class=\"alert alert-block alert-info\">\n",
    "<b>------------------------ ▲ ▲ ▲ enter parameters for trendline to see here ▲ ▲ ▲ -------------------------</b>\n",
    "</div>"
   ]
  },
  {
   "cell_type": "markdown",
   "id": "4a9973be",
   "metadata": {},
   "source": [
    "# Find blocks - toggle granularity here"
   ]
  },
  {
   "cell_type": "code",
   "execution_count": null,
   "id": "bcae2cc2",
   "metadata": {},
   "outputs": [],
   "source": [
    "#call fxn - toggle owner, dow, roomID here to go up/down in granularity\n",
    "owner_dow_OR_dict = orutil.find_blocks(popDict_no_empties, owner, dow, ORnum)\n",
    "owner_dow_OR_dict"
   ]
  },
  {
   "cell_type": "markdown",
   "id": "e2077fe3",
   "metadata": {},
   "source": [
    "### Add date to key, find denom, cases, and minutes to calc numer - store it all in a dict"
   ]
  },
  {
   "cell_type": "code",
   "execution_count": null,
   "id": "5c2a7670",
   "metadata": {},
   "outputs": [],
   "source": [
    "agg_dates_to_plot = orutil.agg_dates_to_plot(filtSurgnDF, filtSnapDF, owner_dow_OR_dict)\n",
    "agg_dates_to_plot"
   ]
  },
  {
   "cell_type": "markdown",
   "id": "768ac90d",
   "metadata": {},
   "source": [
    "### Count the aggregated days for reporting"
   ]
  },
  {
   "cell_type": "code",
   "execution_count": null,
   "id": "072cf716",
   "metadata": {},
   "outputs": [],
   "source": [
    "#count aggregated days for report\n",
    "len(list(agg_dates_to_plot))"
   ]
  },
  {
   "cell_type": "markdown",
   "id": "33a2d1d0",
   "metadata": {},
   "source": [
    "### Make ordered dict out of each key, val pair for plotting temporal buildup of cases"
   ]
  },
  {
   "cell_type": "code",
   "execution_count": null,
   "id": "bbaf2737",
   "metadata": {},
   "outputs": [],
   "source": [
    "plotDicts = orutil.agg_plot_dicts_per_date(filtSurgnDF, agg_dates_to_plot)\n",
    "plotDicts"
   ]
  },
  {
   "cell_type": "markdown",
   "id": "2061ff10",
   "metadata": {},
   "source": [
    "### Convert each date's temporal utilization buildup into a plottable key/value pairing of daysback and percent utilization and stores as a dictionary"
   ]
  },
  {
   "cell_type": "code",
   "execution_count": null,
   "id": "385b9460",
   "metadata": {},
   "outputs": [],
   "source": [
    "ts_dict = orutil.ts_plots(filtSurgnDF, agg_dates_to_plot, plotDicts, num_lookback_days, verbose=False)\n",
    "ts_dict"
   ]
  },
  {
   "cell_type": "markdown",
   "id": "18928f59",
   "metadata": {},
   "source": [
    "### Combine each date into a key/value pair of days back and each % utilization value as a list for each daysback key"
   ]
  },
  {
   "cell_type": "code",
   "execution_count": null,
   "id": "a5c1fc8f",
   "metadata": {
    "scrolled": true
   },
   "outputs": [],
   "source": [
    "xy_dict = orutil.get_xy_from_ts_dict(ts_dict, agg_dates_to_plot, verbose=False)\n",
    "xy_dict"
   ]
  },
  {
   "cell_type": "markdown",
   "id": "f54d1307",
   "metadata": {},
   "source": [
    "### Create two lists from the previous dictionary:\n",
    "* a list of means to plot the central trendline of the model\n",
    "* a list of one standard deviation to plot the confidence interval for each point in the model"
   ]
  },
  {
   "cell_type": "code",
   "execution_count": null,
   "id": "bd96d0af",
   "metadata": {
    "scrolled": true
   },
   "outputs": [],
   "source": [
    "#calc predictive model from data - mean trendline, CI banding\n",
    "\n",
    "mnList, ciList = orutil.calc_ts_model(xy_dict, verbose=False)\n",
    "print(f'mnList:', mnList, '\\n')\n",
    "print(f'ciList:', ciList)"
   ]
  },
  {
   "cell_type": "markdown",
   "id": "966e7f7c",
   "metadata": {},
   "source": [
    "<div class=\"alert alert-block alert-success\">\n",
    "<b>III: This section plots the trendline for given criteria </b>\n",
    "</div>"
   ]
  },
  {
   "cell_type": "markdown",
   "id": "18f9b9f8",
   "metadata": {},
   "source": [
    "# PLOT RESULTS"
   ]
  },
  {
   "cell_type": "code",
   "execution_count": null,
   "id": "c847c2cf",
   "metadata": {},
   "outputs": [],
   "source": [
    "#set the figure size\n",
    "plt.figure(figsize=(12, 12))\n",
    "\n",
    "#set x and y values from above dictionary\n",
    "x = list(xy_dict.keys())\n",
    "y = mnList #central trendline from means of each block\n",
    "\n",
    "fig, ax = plt.subplots()\n",
    "fig.set_size_inches(12, 8)\n",
    "\n",
    "# Plot the function\n",
    "plt.plot(x, y)\n",
    "\n",
    "#adjust y-axis window\n",
    "x1,x2,y1,y2 = plt.axis()  \n",
    "plt.axis((x1,x2,0,1.2))\n",
    "\n",
    "#rest of plt attributes\n",
    "plt.ylabel(\"% Utilization\", fontsize=16, rotation=-90, labelpad=35)\n",
    "ax.yaxis.set_label_position(\"right\")\n",
    "plt.xlabel(\"Days Back From Procedure Date\", fontsize=16, labelpad=20)\n",
    "plt.axhline(y=1, color='cadetblue', linestyle='--')\n",
    "plt.axhline(y=0.8, color='orange', linestyle='--')\n",
    "plt.xticks(rotation = 45)\n",
    "# plt.title(f'% Utilization of OR vs Days Back\\nfrom Procedure Dates on '+\n",
    "#           dow+'s\\n'+ ' for '+ owner+ ' in %i' % ORnum )"
   ]
  },
  {
   "cell_type": "markdown",
   "id": "483834f3",
   "metadata": {},
   "source": [
    "### The below cell graphs the same as the above graph but with confidence banding"
   ]
  },
  {
   "cell_type": "code",
   "execution_count": null,
   "id": "35e25b34",
   "metadata": {},
   "outputs": [],
   "source": [
    "#add CI banding\n",
    "# plt.figure(figsize=(12, 12))\n",
    "plt.rcParams['ytick.right'] = plt.rcParams['ytick.labelright'] = True\n",
    "plt.rcParams['ytick.left'] = plt.rcParams['ytick.labelleft'] = False\n",
    "\n",
    "x_1 = x\n",
    "y_1 = mnList\n",
    "err_1 = ciList\n",
    "\n",
    "fig, ax = plt.subplots()\n",
    "fig.set_size_inches(12, 8)\n",
    "\n",
    "plt.errorbar(x=x_1, y=y_1, yerr=err_1, color=\"gray\", capsize=3,\n",
    "             linestyle=\"None\",\n",
    "             marker=\"s\", markersize=7, mfc=\"black\", mec=\"black\")\n",
    "\n",
    "\n",
    "# #set y axis to always start at 0\n",
    "x1,x2,y1,y2 = plt.axis()  \n",
    "plt.axis((x1,x2,-0.1,1.2))\n",
    "\n",
    "#rest of plt attributes\n",
    "plt.ylabel(\"% Utilization\", fontsize=16, rotation=-90, labelpad=35)\n",
    "plt.xlabel(\"Days Back From Procedure Date\", fontsize=16, labelpad=20)\n",
    "plt.axhline(y=1, color='cadetblue', linestyle='--')\n",
    "plt.axhline(y=0.8, color='orange', linestyle='--')\n",
    "plt.xticks(rotation = 45)\n",
    "ax.yaxis.set_label_position(\"right\")\n",
    "# plt.title(f'% Utilization of OR vs Days Back\\nfrom Procedure Dates on '+\n",
    "#           dow+'s\\n'+ ' for '+ owner+ ' in %i' % roomID )\n",
    "#abbreviated title for dows\n",
    "# plt.title(\"$\\\\bf{Surgeon\\ A\\ -\\ }$\" + r\"$\\bf{\" + str(dow) + \"s\" + \"}$\" +\n",
    "#           \"\\n% Utilization of ORs vs Days Back from Procedure Dates\", fontsize=16, pad=20)\n",
    "#abbreviated title for Surgeon Only\n",
    "plt.title(\"$\\\\bf{Surgeon\\ C\\ -\\ Department\\ III}$\" +\n",
    "          \"\\n% Utilization of ORs vs Days Back from Procedure Dates\", fontsize=16, pad=20)\n",
    "plt.show()"
   ]
  },
  {
   "cell_type": "code",
   "execution_count": null,
   "id": "365fcd2a",
   "metadata": {},
   "outputs": [],
   "source": []
  },
  {
   "cell_type": "code",
   "execution_count": null,
   "id": "f87042da",
   "metadata": {},
   "outputs": [],
   "source": []
  },
  {
   "cell_type": "code",
   "execution_count": null,
   "id": "366ca697",
   "metadata": {},
   "outputs": [],
   "source": []
  },
  {
   "cell_type": "code",
   "execution_count": null,
   "id": "704f7290",
   "metadata": {},
   "outputs": [],
   "source": []
  },
  {
   "cell_type": "code",
   "execution_count": null,
   "id": "aea59f93",
   "metadata": {},
   "outputs": [],
   "source": []
  }
 ],
 "metadata": {
  "kernelspec": {
   "display_name": "Python 3",
   "language": "python",
   "name": "python3"
  },
  "language_info": {
   "codemirror_mode": {
    "name": "ipython",
    "version": 3
   },
   "file_extension": ".py",
   "mimetype": "text/x-python",
   "name": "python",
   "nbconvert_exporter": "python",
   "pygments_lexer": "ipython3",
   "version": "3.8.8"
  }
 },
 "nbformat": 4,
 "nbformat_minor": 5
}
